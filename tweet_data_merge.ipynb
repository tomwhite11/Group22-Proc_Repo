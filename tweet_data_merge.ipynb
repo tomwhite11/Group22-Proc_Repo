{
 "cells": [
  {
   "cell_type": "code",
   "execution_count": 4,
   "id": "bca2d581",
   "metadata": {},
   "outputs": [],
   "source": [
    "import pandas as pd\n",
    "import matplotlib.pyplot as plt"
   ]
  },
  {
   "cell_type": "code",
   "execution_count": 5,
   "id": "ab2b1876",
   "metadata": {},
   "outputs": [],
   "source": [
    "AntiVaxDf=pd.read_pickle(\"2022-07_tweet_data_anti_vax.pkl\")\n",
    "DeepStateDf=pd.read_pickle(\"2022-07_tweet_data_deep_state.pkl\")"
   ]
  },
  {
   "cell_type": "code",
   "execution_count": 6,
   "id": "4c4c063e",
   "metadata": {},
   "outputs": [],
   "source": [
    "ComboDf = pd.merge(AntiVaxDf,DeepStateDf)"
   ]
  },
  {
   "cell_type": "code",
   "execution_count": 7,
   "id": "b4e1e50d",
   "metadata": {},
   "outputs": [
    {
     "data": {
      "text/html": [
       "<div>\n",
       "<style scoped>\n",
       "    .dataframe tbody tr th:only-of-type {\n",
       "        vertical-align: middle;\n",
       "    }\n",
       "\n",
       "    .dataframe tbody tr th {\n",
       "        vertical-align: top;\n",
       "    }\n",
       "\n",
       "    .dataframe thead th {\n",
       "        text-align: right;\n",
       "    }\n",
       "</style>\n",
       "<table border=\"1\" class=\"dataframe\">\n",
       "  <thead>\n",
       "    <tr style=\"text-align: right;\">\n",
       "      <th></th>\n",
       "      <th>tweet_id</th>\n",
       "      <th>screen_name</th>\n",
       "      <th>date</th>\n",
       "      <th>tweet_text</th>\n",
       "      <th>negative_tweet_sentiment</th>\n",
       "      <th>positive_tweet_sentiment</th>\n",
       "      <th>reply_count</th>\n",
       "      <th>quote_count</th>\n",
       "      <th>retweet_count</th>\n",
       "      <th>like_count</th>\n",
       "      <th>interact_count</th>\n",
       "    </tr>\n",
       "  </thead>\n",
       "  <tbody>\n",
       "    <tr>\n",
       "      <th>0</th>\n",
       "      <td>1543001051426525185</td>\n",
       "      <td>fitboynurse</td>\n",
       "      <td>2022-07-01</td>\n",
       "      <td>I infiltrated a group text to see what they sa...</td>\n",
       "      <td>0.496426</td>\n",
       "      <td>0.041586</td>\n",
       "      <td>0</td>\n",
       "      <td>0</td>\n",
       "      <td>0</td>\n",
       "      <td>0</td>\n",
       "      <td>0</td>\n",
       "    </tr>\n",
       "    <tr>\n",
       "      <th>1</th>\n",
       "      <td>1543434809141231616</td>\n",
       "      <td>MarkoMa10317979</td>\n",
       "      <td>2022-07-03</td>\n",
       "      <td>@HillaryClinton Q´anon and #Trump are based on...</td>\n",
       "      <td>0.461344</td>\n",
       "      <td>0.325226</td>\n",
       "      <td>0</td>\n",
       "      <td>0</td>\n",
       "      <td>0</td>\n",
       "      <td>0</td>\n",
       "      <td>0</td>\n",
       "    </tr>\n",
       "    <tr>\n",
       "      <th>2</th>\n",
       "      <td>1546956890239733760</td>\n",
       "      <td>truthtellerat</td>\n",
       "      <td>2022-07-12</td>\n",
       "      <td>Trump was a wet dream for basement dwellers, t...</td>\n",
       "      <td>0.631969</td>\n",
       "      <td>0.057715</td>\n",
       "      <td>0</td>\n",
       "      <td>0</td>\n",
       "      <td>0</td>\n",
       "      <td>0</td>\n",
       "      <td>0</td>\n",
       "    </tr>\n",
       "    <tr>\n",
       "      <th>3</th>\n",
       "      <td>1549297769327857665</td>\n",
       "      <td>TheColeberg</td>\n",
       "      <td>2022-07-19</td>\n",
       "      <td>@LordBeckett4 @StephenMcGann Do you think most...</td>\n",
       "      <td>0.577794</td>\n",
       "      <td>0.182007</td>\n",
       "      <td>0</td>\n",
       "      <td>0</td>\n",
       "      <td>0</td>\n",
       "      <td>0</td>\n",
       "      <td>0</td>\n",
       "    </tr>\n",
       "    <tr>\n",
       "      <th>4</th>\n",
       "      <td>1549277878185086977</td>\n",
       "      <td>TheColeberg</td>\n",
       "      <td>2022-07-19</td>\n",
       "      <td>@LordBeckett4 @StephenMcGann I mean, there def...</td>\n",
       "      <td>0.536160</td>\n",
       "      <td>0.100463</td>\n",
       "      <td>0</td>\n",
       "      <td>0</td>\n",
       "      <td>0</td>\n",
       "      <td>0</td>\n",
       "      <td>0</td>\n",
       "    </tr>\n",
       "  </tbody>\n",
       "</table>\n",
       "</div>"
      ],
      "text/plain": [
       "              tweet_id      screen_name       date  \\\n",
       "0  1543001051426525185      fitboynurse 2022-07-01   \n",
       "1  1543434809141231616  MarkoMa10317979 2022-07-03   \n",
       "2  1546956890239733760    truthtellerat 2022-07-12   \n",
       "3  1549297769327857665      TheColeberg 2022-07-19   \n",
       "4  1549277878185086977      TheColeberg 2022-07-19   \n",
       "\n",
       "                                          tweet_text  \\\n",
       "0  I infiltrated a group text to see what they sa...   \n",
       "1  @HillaryClinton Q´anon and #Trump are based on...   \n",
       "2  Trump was a wet dream for basement dwellers, t...   \n",
       "3  @LordBeckett4 @StephenMcGann Do you think most...   \n",
       "4  @LordBeckett4 @StephenMcGann I mean, there def...   \n",
       "\n",
       "   negative_tweet_sentiment  positive_tweet_sentiment  reply_count  \\\n",
       "0                  0.496426                  0.041586            0   \n",
       "1                  0.461344                  0.325226            0   \n",
       "2                  0.631969                  0.057715            0   \n",
       "3                  0.577794                  0.182007            0   \n",
       "4                  0.536160                  0.100463            0   \n",
       "\n",
       "   quote_count  retweet_count  like_count  interact_count  \n",
       "0            0              0           0               0  \n",
       "1            0              0           0               0  \n",
       "2            0              0           0               0  \n",
       "3            0              0           0               0  \n",
       "4            0              0           0               0  "
      ]
     },
     "execution_count": 7,
     "metadata": {},
     "output_type": "execute_result"
    }
   ],
   "source": [
    "ComboDf.head(5)"
   ]
  },
  {
   "cell_type": "code",
   "execution_count": null,
   "id": "183f8776",
   "metadata": {},
   "outputs": [],
   "source": [
    "ComboDf[\"tweet_text\"]"
   ]
  },
  {
   "cell_type": "code",
   "execution_count": null,
   "id": "e31f1160",
   "metadata": {},
   "outputs": [],
   "source": [
    "ComboDf.values"
   ]
  },
  {
   "cell_type": "code",
   "execution_count": null,
   "id": "9a76436a",
   "metadata": {},
   "outputs": [],
   "source": [
    "ComboDf.to_pickle(\"2022-07_tweet_data_combined.pkl\")"
   ]
  }
 ],
 "metadata": {
  "kernelspec": {
   "display_name": "Python 3 (ipykernel)",
   "language": "python",
   "name": "python3"
  },
  "language_info": {
   "codemirror_mode": {
    "name": "ipython",
    "version": 3
   },
   "file_extension": ".py",
   "mimetype": "text/x-python",
   "name": "python",
   "nbconvert_exporter": "python",
   "pygments_lexer": "ipython3",
   "version": "3.11.2"
  }
 },
 "nbformat": 4,
 "nbformat_minor": 5
}
